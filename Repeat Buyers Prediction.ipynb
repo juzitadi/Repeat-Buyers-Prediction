{
 "cells": [
  {
   "cell_type": "code",
   "execution_count": 1,
   "metadata": {
    "id": "JfpdVmQPos4o"
   },
   "outputs": [],
   "source": [
    "import pandas as pd \n",
    "import numpy as np\n",
    "import os\n",
    "os.chdir(\"/content/drive/MyDrive/data_format1\")\n",
    "userinfo=pd.read_csv('/content/drive/MyDrive/data_format1/user_info_format1.csv')\n",
    "userlog=pd.read_csv('/content/drive/MyDrive/data_format1/user_log_format1.csv')\n",
    "train=pd.read_csv('/content/drive/MyDrive/data_format1/train_format1.csv')"
   ]
  },
  {
   "cell_type": "code",
   "execution_count": null,
   "metadata": {
    "colab": {
     "base_uri": "https://localhost:8080/"
    },
    "id": "n17YRL-xoeBK",
    "outputId": "3c2d63b8-77da-46e2-8b27-fbd5a8b43e57"
   },
   "outputs": [
    {
     "data": {
      "text/plain": [
       "<bound method NDFrame.head of           user_id  item_id  cat_id  ...  brand_id  time_stamp  action_type\n",
       "0          328862   323294     833  ...    2661.0         829            0\n",
       "1          328862   844400    1271  ...    2661.0         829            0\n",
       "2          328862   575153    1271  ...    2661.0         829            0\n",
       "3          328862   996875    1271  ...    2661.0         829            0\n",
       "4          328862  1086186    1271  ...    1049.0         829            0\n",
       "...           ...      ...     ...  ...       ...         ...          ...\n",
       "54925325   208016   107662     898  ...    7995.0        1110            0\n",
       "54925326   208016  1058313     898  ...    7995.0        1110            0\n",
       "54925327   208016   449814     898  ...    7995.0        1110            0\n",
       "54925328   208016   634856     898  ...    7995.0        1110            0\n",
       "54925329   208016   272094     898  ...    7995.0        1111            0\n",
       "\n",
       "[54925330 rows x 7 columns]>"
      ]
     },
     "execution_count": 2,
     "metadata": {
      "tags": []
     },
     "output_type": "execute_result"
    }
   ],
   "source": [
    "userlog.head"
   ]
  },
  {
   "cell_type": "code",
   "execution_count": null,
   "metadata": {
    "colab": {
     "base_uri": "https://localhost:8080/",
     "height": 142
    },
    "id": "VMnEuJLdp3y9",
    "outputId": "f35af11d-9657-4606-91f8-bd3989b6baab"
   },
   "outputs": [
    {
     "data": {
      "text/html": [
       "<div>\n",
       "<style scoped>\n",
       "    .dataframe tbody tr th:only-of-type {\n",
       "        vertical-align: middle;\n",
       "    }\n",
       "\n",
       "    .dataframe tbody tr th {\n",
       "        vertical-align: top;\n",
       "    }\n",
       "\n",
       "    .dataframe thead th {\n",
       "        text-align: right;\n",
       "    }\n",
       "</style>\n",
       "<table border=\"1\" class=\"dataframe\">\n",
       "  <thead>\n",
       "    <tr style=\"text-align: right;\">\n",
       "      <th></th>\n",
       "      <th>index</th>\n",
       "      <th>missing_pct</th>\n",
       "    </tr>\n",
       "  </thead>\n",
       "  <tbody>\n",
       "    <tr>\n",
       "      <th>0</th>\n",
       "      <td>age_range</td>\n",
       "      <td>0.224276</td>\n",
       "    </tr>\n",
       "    <tr>\n",
       "      <th>1</th>\n",
       "      <td>gender</td>\n",
       "      <td>0.039753</td>\n",
       "    </tr>\n",
       "    <tr>\n",
       "      <th>2</th>\n",
       "      <td>user_id</td>\n",
       "      <td>0.000000</td>\n",
       "    </tr>\n",
       "  </tbody>\n",
       "</table>\n",
       "</div>"
      ],
      "text/plain": [
       "       index  missing_pct\n",
       "0  age_range     0.224276\n",
       "1     gender     0.039753\n",
       "2    user_id     0.000000"
      ]
     },
     "execution_count": 3,
     "metadata": {
      "tags": []
     },
     "output_type": "execute_result"
    }
   ],
   "source": [
    "#Check Missing Value\n",
    "def missing_cal(df):\n",
    "    missing_series = df.isnull().sum()/df.shape[0]\n",
    "    missing_df = pd.DataFrame(missing_series).rename(columns={'index':'col',0:'missing_pct'}).sort_values('missing_pct',ascending=False).reset_index()\n",
    "    return missing_df\n",
    "missing_cal(userlog)\n",
    "\n",
    "\n",
    "userinfo['age_range']= userinfo['age_range'].replace({0:np.nan})\n",
    "userinfo['gender']= userinfo['gender'].replace({2:np.nan})\n",
    "missing_cal(userinfo)"
   ]
  },
  {
   "cell_type": "code",
   "execution_count": 2,
   "metadata": {
    "id": "35HmC8ogp78G"
   },
   "outputs": [],
   "source": [
    "#Missing Value Repairment\n",
    "userlog['brand_id'].fillna(userlog['brand_id'].mode()[0],inplace=True)\n",
    "\n",
    "userinfo['gender'].fillna(userinfo['gender'].mode()[0],inplace=True)\n",
    "\n",
    "userinfo['age_range'].fillna(userinfo['age_range'].median(),inplace=True)"
   ]
  },
  {
   "cell_type": "code",
   "execution_count": 3,
   "metadata": {
    "id": "FawNz9kZp_gv"
   },
   "outputs": [],
   "source": [
    "#Duplicates Removal\n",
    "userinfo=userinfo.drop_duplicates()"
   ]
  },
  {
   "cell_type": "code",
   "execution_count": 5,
   "metadata": {
    "id": "ZhHdn13dqDyI"
   },
   "outputs": [],
   "source": [
    "# Format the date\n",
    "userlog['month']=userlog['time_stamp']//100\n",
    "userlog['day']=userlog['time_stamp']%100"
   ]
  },
  {
   "cell_type": "code",
   "execution_count": 6,
   "metadata": {
    "id": "voS-NarKYGtg"
   },
   "outputs": [],
   "source": [
    "# Format the data fields\n",
    "userinfo['user_id'] = userinfo['user_id'].astype('int32')\n",
    "userinfo['age_range'] = userinfo['age_range'].astype('int8')\n",
    "userinfo['gender'] = userinfo['gender'].astype('int8')\n",
    "\n",
    "userlog['user_id'] = userlog['user_id'].astype('int32')\n",
    "userlog['item_id'] = userlog['item_id'].astype('int32')\n",
    "userlog['cat_id'] = userlog['cat_id'].astype('int32')\n",
    "userlog.rename(columns={'seller_id':'merchant_id'}, inplace=True)\n",
    "userlog['merchant_id'] = userlog['merchant_id'].astype('int32')\n",
    "userlog['brand_id'] = userlog['brand_id'].astype('int32')\n",
    "# userlog['time_stamp'] = pd.to_datetime(userlog['time_stamp'], format='%H%M')\n",
    "userlog['action_type'] = userlog['action_type'].astype('int8')\n",
    "\n",
    "train['user_id'] = train['user_id'].astype('int32')\n",
    "train['merchant_id'] = train['merchant_id'].astype('int32')\n",
    "train['label'] = train['label'].astype('int8')"
   ]
  },
  {
   "cell_type": "code",
   "execution_count": 7,
   "metadata": {
    "colab": {
     "base_uri": "https://localhost:8080/"
    },
    "id": "m-2AmK6zUqo6",
    "outputId": "2f1ed51e-56bb-4d92-8d67-506aa17f4622"
   },
   "outputs": [
    {
     "name": "stdout",
     "output_type": "stream",
     "text": [
      "All sample train\n",
      "CPU times: user 696 ms, sys: 19.5 ms, total: 715 ms\n",
      "Wall time: 718 ms\n"
     ]
    }
   ],
   "source": [
    "# Copy the data \n",
    "data = userlog.copy()\n",
    "data1 = userinfo.copy()\n",
    "data2 = train.copy()\n",
    "del userlog, userinfo, train\n",
    "\n"
   ]
  },
  {
   "cell_type": "markdown",
   "metadata": {
    "id": "K51_HuJUHUjN"
   },
   "source": [
    "User Feature"
   ]
  },
  {
   "cell_type": "code",
   "execution_count": null,
   "metadata": {
    "id": "QIUS69EKqGOG"
   },
   "outputs": [],
   "source": [
    "#User's Gender and AGe\n",
    "dummy_df = pd.get_dummies(data1.gender, prefix='gender' )\n",
    "# data1= pd.concat([data1,dummy_df],axis=1).drop('gender',axis=1)\n",
    "dummy_df = pd.get_dummies(data1.age_range, prefix='age' )\n",
    "# data1= pd.concat([data1,dummy_df],axis=1).drop('age_range',axis=1)\n",
    "data2=pd.merge(data2,data1,on=['user_id'])"
   ]
  },
  {
   "cell_type": "code",
   "execution_count": null,
   "metadata": {
    "colab": {
     "base_uri": "https://localhost:8080/",
     "height": 224
    },
    "id": "oJ7BWApQuMXg",
    "outputId": "a62ba246-81eb-413d-95f0-479b79ce4ff4"
   },
   "outputs": [
    {
     "data": {
      "text/html": [
       "<div>\n",
       "<style scoped>\n",
       "    .dataframe tbody tr th:only-of-type {\n",
       "        vertical-align: middle;\n",
       "    }\n",
       "\n",
       "    .dataframe tbody tr th {\n",
       "        vertical-align: top;\n",
       "    }\n",
       "\n",
       "    .dataframe thead th {\n",
       "        text-align: right;\n",
       "    }\n",
       "</style>\n",
       "<table border=\"1\" class=\"dataframe\">\n",
       "  <thead>\n",
       "    <tr style=\"text-align: right;\">\n",
       "      <th></th>\n",
       "      <th>user_id</th>\n",
       "      <th>gender_0.0</th>\n",
       "      <th>gender_1.0</th>\n",
       "      <th>gender_2.0</th>\n",
       "      <th>age_0.0</th>\n",
       "      <th>age_1.0</th>\n",
       "      <th>age_2.0</th>\n",
       "      <th>age_3.0</th>\n",
       "      <th>age_4.0</th>\n",
       "      <th>age_5.0</th>\n",
       "      <th>age_6.0</th>\n",
       "      <th>age_7.0</th>\n",
       "      <th>age_8.0</th>\n",
       "    </tr>\n",
       "  </thead>\n",
       "  <tbody>\n",
       "    <tr>\n",
       "      <th>0</th>\n",
       "      <td>376517</td>\n",
       "      <td>0</td>\n",
       "      <td>1</td>\n",
       "      <td>0</td>\n",
       "      <td>0</td>\n",
       "      <td>0</td>\n",
       "      <td>0</td>\n",
       "      <td>0</td>\n",
       "      <td>0</td>\n",
       "      <td>0</td>\n",
       "      <td>1</td>\n",
       "      <td>0</td>\n",
       "      <td>0</td>\n",
       "    </tr>\n",
       "    <tr>\n",
       "      <th>1</th>\n",
       "      <td>234512</td>\n",
       "      <td>1</td>\n",
       "      <td>0</td>\n",
       "      <td>0</td>\n",
       "      <td>0</td>\n",
       "      <td>0</td>\n",
       "      <td>0</td>\n",
       "      <td>0</td>\n",
       "      <td>0</td>\n",
       "      <td>1</td>\n",
       "      <td>0</td>\n",
       "      <td>0</td>\n",
       "      <td>0</td>\n",
       "    </tr>\n",
       "    <tr>\n",
       "      <th>2</th>\n",
       "      <td>344532</td>\n",
       "      <td>1</td>\n",
       "      <td>0</td>\n",
       "      <td>0</td>\n",
       "      <td>0</td>\n",
       "      <td>0</td>\n",
       "      <td>0</td>\n",
       "      <td>0</td>\n",
       "      <td>0</td>\n",
       "      <td>1</td>\n",
       "      <td>0</td>\n",
       "      <td>0</td>\n",
       "      <td>0</td>\n",
       "    </tr>\n",
       "    <tr>\n",
       "      <th>3</th>\n",
       "      <td>186135</td>\n",
       "      <td>1</td>\n",
       "      <td>0</td>\n",
       "      <td>0</td>\n",
       "      <td>0</td>\n",
       "      <td>0</td>\n",
       "      <td>0</td>\n",
       "      <td>0</td>\n",
       "      <td>0</td>\n",
       "      <td>1</td>\n",
       "      <td>0</td>\n",
       "      <td>0</td>\n",
       "      <td>0</td>\n",
       "    </tr>\n",
       "    <tr>\n",
       "      <th>4</th>\n",
       "      <td>30230</td>\n",
       "      <td>1</td>\n",
       "      <td>0</td>\n",
       "      <td>0</td>\n",
       "      <td>0</td>\n",
       "      <td>0</td>\n",
       "      <td>0</td>\n",
       "      <td>0</td>\n",
       "      <td>0</td>\n",
       "      <td>1</td>\n",
       "      <td>0</td>\n",
       "      <td>0</td>\n",
       "      <td>0</td>\n",
       "    </tr>\n",
       "  </tbody>\n",
       "</table>\n",
       "</div>"
      ],
      "text/plain": [
       "   user_id  gender_0.0  gender_1.0  ...  age_6.0  age_7.0  age_8.0\n",
       "0   376517           0           1  ...        1        0        0\n",
       "1   234512           1           0  ...        0        0        0\n",
       "2   344532           1           0  ...        0        0        0\n",
       "3   186135           1           0  ...        0        0        0\n",
       "4    30230           1           0  ...        0        0        0\n",
       "\n",
       "[5 rows x 13 columns]"
      ]
     },
     "execution_count": 11,
     "metadata": {
      "tags": []
     },
     "output_type": "execute_result"
    }
   ],
   "source": [
    "data1.head()"
   ]
  },
  {
   "cell_type": "code",
   "execution_count": 8,
   "metadata": {
    "id": "B4denLCDvTVN"
   },
   "outputs": [],
   "source": [
    "# Times of use (total)\n",
    "df=data.groupby(['user_id']).size().reset_index().rename(columns={0:'user_tcnt'})\n",
    "data2 =pd.merge(data2,df,on=['user_id'])\n"
   ]
  },
  {
   "cell_type": "code",
   "execution_count": 9,
   "metadata": {
    "id": "jtocXrJCR4Ks"
   },
   "outputs": [],
   "source": [
    "#  Times of use (monthly)\n",
    "df=data.groupby(['user_id','month']).size().reset_index().rename(columns={0:'cnt'})\n",
    "df=pd.get_dummies(df, columns=['month'],prefix='user_mcnt')\n",
    "for i in range(5,12):\n",
    "    df['user_mcnt_'+str(i)]=df['cnt']*df['user_mcnt_'+str(i)]\n",
    "df=df.groupby(['user_id']).sum().drop(['cnt'],axis=1).reset_index()\n",
    "data2=pd.merge(data2,df,on=['user_id'])"
   ]
  },
  {
   "cell_type": "code",
   "execution_count": 10,
   "metadata": {
    "id": "1BIVqUaPtk75"
   },
   "outputs": [],
   "source": [
    "# Times of click/add to favorites /add to shopping cart\n",
    "for i in set(data['action_type']):\n",
    "    df=data[data['action_type']==i].groupby(['user_id']).size().reset_index().rename(columns={0:'user_tcnt'+str(i)})\n",
    "    data2 =pd.merge(data2,df,how='left',on=['user_id'])   \n",
    " "
   ]
  },
  {
   "cell_type": "code",
   "execution_count": 11,
   "metadata": {
    "id": "LU8AFI81toky"
   },
   "outputs": [],
   "source": [
    "# User_Repeat_Ratio\n",
    "df=data[data['action_type']==2]\n",
    "df1=df.groupby(['user_id']).agg({'merchant_id':lambda x: len(set(x))}).reset_index().rename(columns={'merchant_id':'user_mer_tcnt'}) #计算购买过的商户数\n",
    "df2=df.groupby(['user_id','merchant_id']).size().reset_index().rename(columns={0:'cnt'}) \n",
    "df2=df2[df2['cnt']>=2].groupby(['user_id']).size().reset_index().rename(columns={0:'repeat_user_cnt'})   #计算重复购买商户数\n",
    "df=pd.merge(df1,df2,how='left',on='user_id')\n",
    "df['user_repeat_ratio']=df['repeat_user_cnt']/(df['user_mer_tcnt']+10) #计算回购率\n",
    "data2 = pd.merge(data2,df[['user_id','user_repeat_ratio']], on=['user_id'], how='left')"
   ]
  },
  {
   "cell_type": "markdown",
   "metadata": {
    "id": "bQRtoD4pMol3"
   },
   "source": [
    "Merchant Feature"
   ]
  },
  {
   "cell_type": "code",
   "execution_count": 12,
   "metadata": {
    "id": "pfjUi8L0t9ZH"
   },
   "outputs": [],
   "source": [
    "#Times of Appearing (total)\n",
    "df=data.groupby(['merchant_id']).size().reset_index().rename(columns={0:'mer_tcnt'})\n",
    "data2 =pd.merge(data2,df,on=['merchant_id'])\n"
   ]
  },
  {
   "cell_type": "code",
   "execution_count": 13,
   "metadata": {
    "id": "CS0WUzsdt_1z"
   },
   "outputs": [],
   "source": [
    "#Times of Appearing (monthly)\n",
    "df=data.groupby(['merchant_id','month']).size().reset_index().rename(columns={0:'cnt'})\n",
    "df=pd.get_dummies(df, columns=['month'],prefix='mer_mcnt')\n",
    "for i in range(5,12):\n",
    "    df['mer_mcnt_'+str(i)]=df['cnt']*df['mer_mcnt_'+str(i)]\n",
    "df=df.groupby(['merchant_id']).sum().drop(['cnt'],axis=1).reset_index()\n",
    "data2=pd.merge(data2,df,on=['merchant_id'])"
   ]
  },
  {
   "cell_type": "code",
   "execution_count": 14,
   "metadata": {
    "id": "PmtmGVmeuBia"
   },
   "outputs": [],
   "source": [
    "#Times of being clicked/added to favoriites/added to shooping cart\n",
    "for i in set(data['action_type']):\n",
    "    df=data[data['action_type']==i].groupby(['merchant_id']).size().reset_index().rename(columns={0:'mer_tcnt'+str(i)})\n",
    "    data2 =pd.merge(data2,df,how='left',on=['merchant_id'])   "
   ]
  },
  {
   "cell_type": "code",
   "execution_count": 15,
   "metadata": {
    "id": "S5LkugTTuFoy"
   },
   "outputs": [],
   "source": [
    "# Number of user_id, cat_id, brand_id and item_id\n",
    "list=['user_id','cat_id','brand_id','item_id']\n",
    "for i in list: \n",
    "    df= data.drop_duplicates(['merchant_id',i])\n",
    "    df= df.groupby(['merchant_id']).size().reset_index().rename(columns={0:'mer_tcnt'+'_'+i[:-3]})\n",
    "    data2 =pd.merge(data2,df,how='left',on=['merchant_id'])   "
   ]
  },
  {
   "cell_type": "code",
   "execution_count": 16,
   "metadata": {
    "id": "1dfZCY6VuKZQ"
   },
   "outputs": [],
   "source": [
    "#Mer_Repeat_Ratio\n",
    "df=data[data['action_type']==2]\n",
    "df1=df.groupby(['merchant_id']).agg({'user_id':lambda x: len(set(x))}).reset_index().rename(columns={'user_id':'user_mer_tcnt'}) #计算购买过的商户数\n",
    "df2=df.groupby(['merchant_id','user_id']).size().reset_index().rename(columns={0:'cnt'}) \n",
    "df2=df2[df2['cnt']>=2].groupby(['merchant_id']).size().reset_index().rename(columns={0:'repeat_user_cnt'})   #计算重复购买商户数\n",
    "df=pd.merge(df1,df2,how='left',on='merchant_id')\n",
    "df['mer_repeat_ratio']=df['repeat_user_cnt']/(df['user_mer_tcnt']+10) #计算回购率\n",
    "data2 = pd.merge(data2,df[['merchant_id','mer_repeat_ratio']], on=['merchant_id'], how='left')"
   ]
  },
  {
   "cell_type": "markdown",
   "metadata": {
    "id": "b65UYmLbarUe"
   },
   "source": [
    "Merchant + User"
   ]
  },
  {
   "cell_type": "code",
   "execution_count": 17,
   "metadata": {
    "id": "sJuqVY3IuR1x"
   },
   "outputs": [],
   "source": [
    "#Times of use on particualr merchant (total)\n",
    "df=data.groupby(['user_id','merchant_id']).size().reset_index().rename(columns={0:'user_mer_tcnt'})\n",
    "data2 =pd.merge(data2,df,on=['user_id','merchant_id'])"
   ]
  },
  {
   "cell_type": "code",
   "execution_count": 18,
   "metadata": {
    "id": "AAY9IDUjOTFz"
   },
   "outputs": [],
   "source": [
    "#Times of use on particualr merchant (monthly)\n",
    "df=data.groupby(['user_id','merchant_id','month']).size().reset_index().rename(columns={0:'cnt'})\n",
    "df=pd.get_dummies(df, columns=['month'],prefix='user_mer_mcnt')\n",
    "for i in range(5,12):\n",
    "    df['user_mer_mcnt_'+str(i)]=df['cnt']*df['user_mer_mcnt_'+str(i)]\n"
   ]
  },
  {
   "cell_type": "code",
   "execution_count": 19,
   "metadata": {
    "id": "3Juu9aTbRZg8"
   },
   "outputs": [],
   "source": [
    "# df=df.groupby(['user_id','merchant_id']).sum().drop(['cnt'],axis=1).reset_index()\n",
    "data2=pd.merge(data2,df,on=['user_id','merchant_id'])"
   ]
  },
  {
   "cell_type": "code",
   "execution_count": 20,
   "metadata": {
    "id": "JkgRZwpFuVk9"
   },
   "outputs": [],
   "source": [
    "# Tims of click/add to favorties/add to shooping cart on particular merchant\n",
    "for i in set(data['action_type']):\n",
    "    df=data[data['action_type']==i].groupby(['user_id','merchant_id']).size().reset_index().rename(columns={0:'user_mer_tcnt'+str(i)})\n",
    "    data2 =pd.merge(data2,df,how='left',on=['user_id','merchant_id'])   "
   ]
  },
  {
   "cell_type": "code",
   "execution_count": 21,
   "metadata": {
    "id": "JRnYI4wruboi"
   },
   "outputs": [],
   "source": [
    "#Number of buyer's past cat_id, brand_id and item_id on particular merchant\n",
    "list=['cat_id','brand_id','item_id']\n",
    "for i in list:\n",
    "    prefix = 'user_mer_'+i[:-3]+'_'\n",
    "    df = data.groupby(['user_id', 'merchant_id', i]).size().reset_index().rename(columns={0:'cnt'})\n",
    "    df = df.groupby(['user_id', 'merchant_id']).agg({'cnt':[np.size, np.mean, np.max, np.min]}).reset_index()\n",
    "    df.columns = ['user_id', 'merchant_id', prefix + 'size', prefix + 'mean', prefix + 'max', prefix + 'min']\n",
    "    data2 = pd.merge(data2,df, on=['user_id', 'merchant_id'], how='left')\n"
   ]
  },
  {
   "cell_type": "code",
   "execution_count": 22,
   "metadata": {
    "id": "bPU4JRfeug9s"
   },
   "outputs": [],
   "source": [
    "# Times of buyer's using on particular merchant (months)\n",
    "df=data.groupby(['user_id','merchant_id']).agg({'month':lambda x: len(set(x))}).reset_index().rename(columns={'month':'user_mer_mon_tcnt'}) \n",
    "data2 =pd.merge(data2,df,how='left',on=['user_id','merchant_id']) \n"
   ]
  },
  {
   "cell_type": "code",
   "execution_count": 23,
   "metadata": {
    "id": "sSfdKADxujIl"
   },
   "outputs": [],
   "source": [
    "# Times of buyer's using on particular merchant (days)\n",
    "df=data.groupby(['user_id','merchant_id']).agg({'time_stamp':lambda x: len(set(x))}).reset_index().rename(columns={'time_stamp':'user_mer_day_tcnt'}) \n",
    "data2 =pd.merge(data2,df,how='left',on=['user_id','merchant_id']) \n"
   ]
  },
  {
   "cell_type": "code",
   "execution_count": null,
   "metadata": {
    "id": "Yw8UZCCMukrw"
   },
   "outputs": [],
   "source": [
    "# Ratio of buyers' click/add to favorites/add to shooping cart on particular merchant\n",
    "data2['user_mu_ratio']=data2['user_mer_tcnt']/(data2['mer_tcnt']+10)\n",
    "data2['user_mu0_ratio']=data2['user_mer_tcnt0']/(data2['mer_tcnt0']+10)\n",
    "train['user_mu1_ratio']=data2['user_mer_tcnt1']/(data2['mer_tcnt1']+10)\n",
    "train['user_mu2_ratio']=data2['user_mer_tcnt2']/(data2['mer_tcnt2']+10)\n",
    "data2['user_mu3_ratio']=data2['user_mer_tcnt3']/(data2['mer_tcnt3']+10)"
   ]
  },
  {
   "cell_type": "code",
   "execution_count": null,
   "metadata": {
    "id": "vUCCeM3Yc_RB"
   },
   "outputs": [],
   "source": [
    "train.to_csv('train.csv')"
   ]
  },
  {
   "cell_type": "code",
   "execution_count": null,
   "metadata": {
    "colab": {
     "base_uri": "https://localhost:8080/",
     "height": 224
    },
    "id": "7BRs_b6SdcH_",
    "outputId": "707d06e9-031f-42a4-b7ad-0ca6c4498be6"
   },
   "outputs": [
    {
     "data": {
      "text/html": [
       "<div>\n",
       "<style scoped>\n",
       "    .dataframe tbody tr th:only-of-type {\n",
       "        vertical-align: middle;\n",
       "    }\n",
       "\n",
       "    .dataframe tbody tr th {\n",
       "        vertical-align: top;\n",
       "    }\n",
       "\n",
       "    .dataframe thead th {\n",
       "        text-align: right;\n",
       "    }\n",
       "</style>\n",
       "<table border=\"1\" class=\"dataframe\">\n",
       "  <thead>\n",
       "    <tr style=\"text-align: right;\">\n",
       "      <th></th>\n",
       "      <th>user_id</th>\n",
       "      <th>merchant_id</th>\n",
       "      <th>label</th>\n",
       "      <th>age_range</th>\n",
       "      <th>gender</th>\n",
       "      <th>user_tcnt</th>\n",
       "      <th>user_mcnt_5_x</th>\n",
       "      <th>user_mcnt_6_x</th>\n",
       "      <th>user_mcnt_7_x</th>\n",
       "      <th>user_mcnt_8_x</th>\n",
       "      <th>user_mcnt_9_x</th>\n",
       "      <th>user_mcnt_10_x</th>\n",
       "      <th>user_mcnt_11_x</th>\n",
       "      <th>user_tcnt0</th>\n",
       "      <th>user_tcnt1</th>\n",
       "      <th>user_tcnt2</th>\n",
       "      <th>user_tcnt3</th>\n",
       "      <th>user_mcnt_5_y</th>\n",
       "      <th>user_mcnt_6_y</th>\n",
       "      <th>user_mcnt_7_y</th>\n",
       "      <th>user_mcnt_8_y</th>\n",
       "      <th>user_mcnt_9_y</th>\n",
       "      <th>user_mcnt_10_y</th>\n",
       "      <th>user_mcnt_11_y</th>\n",
       "      <th>user_repeat_ratio</th>\n",
       "      <th>user_tcnt_ratio3</th>\n",
       "      <th>user_mu1_ratio</th>\n",
       "      <th>user_mu2_ratio</th>\n",
       "    </tr>\n",
       "  </thead>\n",
       "  <tbody>\n",
       "    <tr>\n",
       "      <th>0</th>\n",
       "      <td>34176</td>\n",
       "      <td>3906</td>\n",
       "      <td>0</td>\n",
       "      <td>6</td>\n",
       "      <td>0</td>\n",
       "      <td>451</td>\n",
       "      <td>48</td>\n",
       "      <td>41</td>\n",
       "      <td>31</td>\n",
       "      <td>44</td>\n",
       "      <td>19</td>\n",
       "      <td>146</td>\n",
       "      <td>122</td>\n",
       "      <td>410.0</td>\n",
       "      <td>NaN</td>\n",
       "      <td>34</td>\n",
       "      <td>7.0</td>\n",
       "      <td>48</td>\n",
       "      <td>41</td>\n",
       "      <td>31</td>\n",
       "      <td>44</td>\n",
       "      <td>19</td>\n",
       "      <td>146</td>\n",
       "      <td>122</td>\n",
       "      <td>0.1250</td>\n",
       "      <td>1.274457e-07</td>\n",
       "      <td>NaN</td>\n",
       "      <td>0.002381</td>\n",
       "    </tr>\n",
       "    <tr>\n",
       "      <th>1</th>\n",
       "      <td>34176</td>\n",
       "      <td>121</td>\n",
       "      <td>0</td>\n",
       "      <td>6</td>\n",
       "      <td>0</td>\n",
       "      <td>451</td>\n",
       "      <td>48</td>\n",
       "      <td>41</td>\n",
       "      <td>31</td>\n",
       "      <td>44</td>\n",
       "      <td>19</td>\n",
       "      <td>146</td>\n",
       "      <td>122</td>\n",
       "      <td>410.0</td>\n",
       "      <td>NaN</td>\n",
       "      <td>34</td>\n",
       "      <td>7.0</td>\n",
       "      <td>48</td>\n",
       "      <td>41</td>\n",
       "      <td>31</td>\n",
       "      <td>44</td>\n",
       "      <td>19</td>\n",
       "      <td>146</td>\n",
       "      <td>122</td>\n",
       "      <td>0.1250</td>\n",
       "      <td>1.274457e-07</td>\n",
       "      <td>NaN</td>\n",
       "      <td>0.002381</td>\n",
       "    </tr>\n",
       "    <tr>\n",
       "      <th>2</th>\n",
       "      <td>34176</td>\n",
       "      <td>4356</td>\n",
       "      <td>1</td>\n",
       "      <td>6</td>\n",
       "      <td>0</td>\n",
       "      <td>451</td>\n",
       "      <td>48</td>\n",
       "      <td>41</td>\n",
       "      <td>31</td>\n",
       "      <td>44</td>\n",
       "      <td>19</td>\n",
       "      <td>146</td>\n",
       "      <td>122</td>\n",
       "      <td>410.0</td>\n",
       "      <td>NaN</td>\n",
       "      <td>34</td>\n",
       "      <td>7.0</td>\n",
       "      <td>48</td>\n",
       "      <td>41</td>\n",
       "      <td>31</td>\n",
       "      <td>44</td>\n",
       "      <td>19</td>\n",
       "      <td>146</td>\n",
       "      <td>122</td>\n",
       "      <td>0.1250</td>\n",
       "      <td>1.274457e-07</td>\n",
       "      <td>NaN</td>\n",
       "      <td>0.002381</td>\n",
       "    </tr>\n",
       "    <tr>\n",
       "      <th>3</th>\n",
       "      <td>34176</td>\n",
       "      <td>2217</td>\n",
       "      <td>0</td>\n",
       "      <td>6</td>\n",
       "      <td>0</td>\n",
       "      <td>451</td>\n",
       "      <td>48</td>\n",
       "      <td>41</td>\n",
       "      <td>31</td>\n",
       "      <td>44</td>\n",
       "      <td>19</td>\n",
       "      <td>146</td>\n",
       "      <td>122</td>\n",
       "      <td>410.0</td>\n",
       "      <td>NaN</td>\n",
       "      <td>34</td>\n",
       "      <td>7.0</td>\n",
       "      <td>48</td>\n",
       "      <td>41</td>\n",
       "      <td>31</td>\n",
       "      <td>44</td>\n",
       "      <td>19</td>\n",
       "      <td>146</td>\n",
       "      <td>122</td>\n",
       "      <td>0.1250</td>\n",
       "      <td>1.274457e-07</td>\n",
       "      <td>NaN</td>\n",
       "      <td>0.002381</td>\n",
       "    </tr>\n",
       "    <tr>\n",
       "      <th>4</th>\n",
       "      <td>230784</td>\n",
       "      <td>4818</td>\n",
       "      <td>0</td>\n",
       "      <td>0</td>\n",
       "      <td>0</td>\n",
       "      <td>54</td>\n",
       "      <td>0</td>\n",
       "      <td>28</td>\n",
       "      <td>5</td>\n",
       "      <td>0</td>\n",
       "      <td>4</td>\n",
       "      <td>2</td>\n",
       "      <td>15</td>\n",
       "      <td>47.0</td>\n",
       "      <td>NaN</td>\n",
       "      <td>7</td>\n",
       "      <td>NaN</td>\n",
       "      <td>0</td>\n",
       "      <td>28</td>\n",
       "      <td>5</td>\n",
       "      <td>0</td>\n",
       "      <td>4</td>\n",
       "      <td>2</td>\n",
       "      <td>15</td>\n",
       "      <td>0.0625</td>\n",
       "      <td>NaN</td>\n",
       "      <td>NaN</td>\n",
       "      <td>0.002381</td>\n",
       "    </tr>\n",
       "  </tbody>\n",
       "</table>\n",
       "</div>"
      ],
      "text/plain": [
       "   user_id  merchant_id  ...  user_mu1_ratio  user_mu2_ratio\n",
       "0    34176         3906  ...             NaN        0.002381\n",
       "1    34176          121  ...             NaN        0.002381\n",
       "2    34176         4356  ...             NaN        0.002381\n",
       "3    34176         2217  ...             NaN        0.002381\n",
       "4   230784         4818  ...             NaN        0.002381\n",
       "\n",
       "[5 rows x 28 columns]"
      ]
     },
     "execution_count": 30,
     "metadata": {
      "tags": []
     },
     "output_type": "execute_result"
    }
   ],
   "source": [
    "train.head()"
   ]
  },
  {
   "cell_type": "code",
   "execution_count": 24,
   "metadata": {
    "id": "zYhwJ6_MLVM1"
   },
   "outputs": [],
   "source": [
    "from sklearn.model_selection import train_test_split\n",
    "import xgboost as xgb\n",
    "\n",
    "x = data2.loc[:,data2.columns != 'label']\n",
    "y = data2.loc[:,data2.columns == 'label']\n",
    "x_train, x_test, y_train, y_test = train_test_split(x,y,test_size = 0.2, random_state = 0)\n",
    "\n",
    "del x_train['user_id'],x_train['merchant_id'],x_test['user_id'],x_test['merchant_id']\n",
    "duplicate_columns = x_test.columns[x_test.columns.duplicated()]"
   ]
  },
  {
   "cell_type": "code",
   "execution_count": 25,
   "metadata": {
    "id": "24Q_HW5ULpCl"
   },
   "outputs": [],
   "source": [
    "x_test = x_test.loc[:,~x_test.columns.duplicated()]"
   ]
  },
  {
   "cell_type": "code",
   "execution_count": 26,
   "metadata": {
    "id": "fVsTRnKhLm6z"
   },
   "outputs": [],
   "source": [
    "dtrain = xgb.DMatrix(x_train, label=y_train)\n",
    "dtest = xgb.DMatrix(x_test, label=y_test)"
   ]
  },
  {
   "cell_type": "code",
   "execution_count": 27,
   "metadata": {
    "colab": {
     "base_uri": "https://localhost:8080/"
    },
    "id": "ECliXizzq6gg",
    "outputId": "0261c5e4-a4d2-4ad2-8105-788a46a5f320"
   },
   "outputs": [
    {
     "name": "stdout",
     "output_type": "stream",
     "text": [
      "[0]\ttrain-auc:0.653388\ttest-auc:0.65109\n",
      "Multiple eval metrics have been passed: 'test-auc' will be used for early stopping.\n",
      "\n",
      "Will train until test-auc hasn't improved in 10 rounds.\n",
      "[1]\ttrain-auc:0.664893\ttest-auc:0.663077\n",
      "[2]\ttrain-auc:0.668284\ttest-auc:0.666438\n",
      "[3]\ttrain-auc:0.668781\ttest-auc:0.667515\n",
      "[4]\ttrain-auc:0.668914\ttest-auc:0.667407\n",
      "[5]\ttrain-auc:0.671541\ttest-auc:0.670373\n",
      "[6]\ttrain-auc:0.673476\ttest-auc:0.671035\n",
      "[7]\ttrain-auc:0.67466\ttest-auc:0.671826\n",
      "[8]\ttrain-auc:0.675396\ttest-auc:0.671718\n",
      "[9]\ttrain-auc:0.675159\ttest-auc:0.67121\n",
      "[10]\ttrain-auc:0.675595\ttest-auc:0.671461\n",
      "[11]\ttrain-auc:0.675998\ttest-auc:0.672069\n",
      "[12]\ttrain-auc:0.67787\ttest-auc:0.673738\n",
      "[13]\ttrain-auc:0.678607\ttest-auc:0.674081\n",
      "[14]\ttrain-auc:0.679836\ttest-auc:0.675031\n",
      "[15]\ttrain-auc:0.680416\ttest-auc:0.675522\n",
      "[16]\ttrain-auc:0.681417\ttest-auc:0.676166\n",
      "[17]\ttrain-auc:0.682074\ttest-auc:0.676546\n",
      "[18]\ttrain-auc:0.682651\ttest-auc:0.677503\n",
      "[19]\ttrain-auc:0.683043\ttest-auc:0.677635\n",
      "[20]\ttrain-auc:0.683508\ttest-auc:0.678179\n",
      "[21]\ttrain-auc:0.684013\ttest-auc:0.678685\n",
      "[22]\ttrain-auc:0.685157\ttest-auc:0.680087\n",
      "[23]\ttrain-auc:0.685932\ttest-auc:0.680534\n",
      "[24]\ttrain-auc:0.686591\ttest-auc:0.680938\n",
      "[25]\ttrain-auc:0.687283\ttest-auc:0.681235\n",
      "[26]\ttrain-auc:0.688026\ttest-auc:0.681795\n",
      "[27]\ttrain-auc:0.688874\ttest-auc:0.682662\n",
      "[28]\ttrain-auc:0.689875\ttest-auc:0.683715\n",
      "[29]\ttrain-auc:0.690826\ttest-auc:0.684568\n",
      "[30]\ttrain-auc:0.691346\ttest-auc:0.684955\n",
      "[31]\ttrain-auc:0.692346\ttest-auc:0.685848\n",
      "[32]\ttrain-auc:0.69301\ttest-auc:0.686308\n",
      "[33]\ttrain-auc:0.694012\ttest-auc:0.68719\n",
      "[34]\ttrain-auc:0.694715\ttest-auc:0.687373\n",
      "[35]\ttrain-auc:0.695104\ttest-auc:0.687631\n",
      "[36]\ttrain-auc:0.695594\ttest-auc:0.688068\n",
      "[37]\ttrain-auc:0.696597\ttest-auc:0.689123\n",
      "[38]\ttrain-auc:0.697035\ttest-auc:0.689382\n",
      "[39]\ttrain-auc:0.697711\ttest-auc:0.689698\n",
      "[40]\ttrain-auc:0.698131\ttest-auc:0.690028\n",
      "[41]\ttrain-auc:0.6989\ttest-auc:0.690543\n",
      "[42]\ttrain-auc:0.699246\ttest-auc:0.690709\n",
      "[43]\ttrain-auc:0.7003\ttest-auc:0.691756\n",
      "[44]\ttrain-auc:0.700808\ttest-auc:0.692307\n",
      "[45]\ttrain-auc:0.701284\ttest-auc:0.69277\n",
      "[46]\ttrain-auc:0.701743\ttest-auc:0.693058\n",
      "[47]\ttrain-auc:0.70216\ttest-auc:0.693149\n",
      "[48]\ttrain-auc:0.702426\ttest-auc:0.693391\n",
      "[49]\ttrain-auc:0.702812\ttest-auc:0.693505\n",
      "[50]\ttrain-auc:0.703413\ttest-auc:0.694086\n",
      "[51]\ttrain-auc:0.703991\ttest-auc:0.694592\n",
      "[52]\ttrain-auc:0.704655\ttest-auc:0.695288\n",
      "[53]\ttrain-auc:0.70557\ttest-auc:0.695892\n",
      "[54]\ttrain-auc:0.705962\ttest-auc:0.696072\n",
      "[55]\ttrain-auc:0.706922\ttest-auc:0.696464\n",
      "[56]\ttrain-auc:0.707169\ttest-auc:0.696758\n",
      "[57]\ttrain-auc:0.707367\ttest-auc:0.696782\n",
      "[58]\ttrain-auc:0.708133\ttest-auc:0.697418\n",
      "[59]\ttrain-auc:0.708314\ttest-auc:0.697402\n",
      "[60]\ttrain-auc:0.708982\ttest-auc:0.697946\n",
      "[61]\ttrain-auc:0.709346\ttest-auc:0.698162\n",
      "[62]\ttrain-auc:0.709866\ttest-auc:0.69834\n",
      "[63]\ttrain-auc:0.710374\ttest-auc:0.698705\n",
      "[64]\ttrain-auc:0.711219\ttest-auc:0.699477\n",
      "[65]\ttrain-auc:0.711572\ttest-auc:0.699854\n",
      "[66]\ttrain-auc:0.71206\ttest-auc:0.699972\n",
      "[67]\ttrain-auc:0.712586\ttest-auc:0.700379\n",
      "[68]\ttrain-auc:0.712995\ttest-auc:0.700669\n",
      "[69]\ttrain-auc:0.713225\ttest-auc:0.700956\n",
      "[70]\ttrain-auc:0.713538\ttest-auc:0.701219\n",
      "[71]\ttrain-auc:0.714007\ttest-auc:0.701287\n",
      "[72]\ttrain-auc:0.714274\ttest-auc:0.701413\n",
      "[73]\ttrain-auc:0.71443\ttest-auc:0.701523\n",
      "[74]\ttrain-auc:0.715116\ttest-auc:0.702048\n",
      "[75]\ttrain-auc:0.715334\ttest-auc:0.702075\n",
      "[76]\ttrain-auc:0.715515\ttest-auc:0.702126\n",
      "[77]\ttrain-auc:0.716139\ttest-auc:0.702645\n",
      "[78]\ttrain-auc:0.716468\ttest-auc:0.702583\n",
      "[79]\ttrain-auc:0.717292\ttest-auc:0.703283\n",
      "[80]\ttrain-auc:0.717566\ttest-auc:0.703364\n",
      "[81]\ttrain-auc:0.7177\ttest-auc:0.703454\n",
      "[82]\ttrain-auc:0.717996\ttest-auc:0.703658\n",
      "[83]\ttrain-auc:0.718127\ttest-auc:0.703774\n",
      "[84]\ttrain-auc:0.718145\ttest-auc:0.703805\n",
      "[85]\ttrain-auc:0.718413\ttest-auc:0.703892\n",
      "[86]\ttrain-auc:0.718888\ttest-auc:0.704469\n",
      "[87]\ttrain-auc:0.719399\ttest-auc:0.704689\n",
      "[88]\ttrain-auc:0.719557\ttest-auc:0.704691\n",
      "[89]\ttrain-auc:0.719839\ttest-auc:0.704935\n",
      "[90]\ttrain-auc:0.720341\ttest-auc:0.70525\n",
      "[91]\ttrain-auc:0.720708\ttest-auc:0.705491\n",
      "[92]\ttrain-auc:0.720839\ttest-auc:0.705557\n",
      "[93]\ttrain-auc:0.721144\ttest-auc:0.705829\n",
      "[94]\ttrain-auc:0.721532\ttest-auc:0.706068\n",
      "[95]\ttrain-auc:0.721754\ttest-auc:0.70619\n",
      "[96]\ttrain-auc:0.722014\ttest-auc:0.706326\n",
      "[97]\ttrain-auc:0.722375\ttest-auc:0.706339\n",
      "[98]\ttrain-auc:0.722506\ttest-auc:0.706399\n",
      "[99]\ttrain-auc:0.722756\ttest-auc:0.70654\n",
      "[100]\ttrain-auc:0.723051\ttest-auc:0.70687\n",
      "[101]\ttrain-auc:0.723252\ttest-auc:0.706998\n",
      "[102]\ttrain-auc:0.723344\ttest-auc:0.70706\n",
      "[103]\ttrain-auc:0.723762\ttest-auc:0.707068\n",
      "[104]\ttrain-auc:0.723978\ttest-auc:0.70721\n",
      "[105]\ttrain-auc:0.724407\ttest-auc:0.707591\n",
      "[106]\ttrain-auc:0.724764\ttest-auc:0.707819\n",
      "[107]\ttrain-auc:0.725093\ttest-auc:0.707853\n",
      "[108]\ttrain-auc:0.725271\ttest-auc:0.708107\n",
      "[109]\ttrain-auc:0.725652\ttest-auc:0.70826\n",
      "[110]\ttrain-auc:0.725887\ttest-auc:0.708441\n",
      "[111]\ttrain-auc:0.726169\ttest-auc:0.70845\n",
      "[112]\ttrain-auc:0.726383\ttest-auc:0.708594\n",
      "[113]\ttrain-auc:0.72673\ttest-auc:0.70878\n",
      "[114]\ttrain-auc:0.727211\ttest-auc:0.708923\n",
      "[115]\ttrain-auc:0.727319\ttest-auc:0.708931\n",
      "[116]\ttrain-auc:0.727708\ttest-auc:0.709109\n",
      "[117]\ttrain-auc:0.727855\ttest-auc:0.709189\n",
      "[118]\ttrain-auc:0.728162\ttest-auc:0.709375\n",
      "[119]\ttrain-auc:0.728655\ttest-auc:0.709949\n",
      "[120]\ttrain-auc:0.7289\ttest-auc:0.710339\n",
      "[121]\ttrain-auc:0.729055\ttest-auc:0.7105\n",
      "[122]\ttrain-auc:0.72958\ttest-auc:0.710935\n",
      "[123]\ttrain-auc:0.729893\ttest-auc:0.711082\n",
      "[124]\ttrain-auc:0.729961\ttest-auc:0.711111\n",
      "[125]\ttrain-auc:0.730173\ttest-auc:0.711251\n",
      "[126]\ttrain-auc:0.730466\ttest-auc:0.711326\n",
      "[127]\ttrain-auc:0.730612\ttest-auc:0.711292\n",
      "[128]\ttrain-auc:0.731044\ttest-auc:0.711418\n",
      "[129]\ttrain-auc:0.731113\ttest-auc:0.711499\n",
      "[130]\ttrain-auc:0.7314\ttest-auc:0.711714\n",
      "[131]\ttrain-auc:0.731727\ttest-auc:0.711881\n",
      "[132]\ttrain-auc:0.732113\ttest-auc:0.712097\n",
      "[133]\ttrain-auc:0.732219\ttest-auc:0.712089\n",
      "[134]\ttrain-auc:0.732599\ttest-auc:0.712258\n",
      "[135]\ttrain-auc:0.733073\ttest-auc:0.712445\n",
      "[136]\ttrain-auc:0.733225\ttest-auc:0.712545\n",
      "[137]\ttrain-auc:0.733515\ttest-auc:0.71276\n",
      "[138]\ttrain-auc:0.73365\ttest-auc:0.712837\n",
      "[139]\ttrain-auc:0.73406\ttest-auc:0.71301\n",
      "[140]\ttrain-auc:0.734095\ttest-auc:0.713034\n",
      "[141]\ttrain-auc:0.734267\ttest-auc:0.713084\n",
      "[142]\ttrain-auc:0.734652\ttest-auc:0.713205\n",
      "[143]\ttrain-auc:0.734855\ttest-auc:0.713283\n",
      "[144]\ttrain-auc:0.734962\ttest-auc:0.713346\n",
      "[145]\ttrain-auc:0.735169\ttest-auc:0.713614\n",
      "[146]\ttrain-auc:0.735635\ttest-auc:0.713871\n",
      "[147]\ttrain-auc:0.735817\ttest-auc:0.713898\n",
      "[148]\ttrain-auc:0.736116\ttest-auc:0.714033\n",
      "[149]\ttrain-auc:0.73619\ttest-auc:0.714097\n",
      "[150]\ttrain-auc:0.736413\ttest-auc:0.714303\n",
      "[151]\ttrain-auc:0.736583\ttest-auc:0.714468\n",
      "[152]\ttrain-auc:0.736655\ttest-auc:0.714505\n",
      "[153]\ttrain-auc:0.73687\ttest-auc:0.714681\n",
      "[154]\ttrain-auc:0.736968\ttest-auc:0.714807\n",
      "[155]\ttrain-auc:0.737162\ttest-auc:0.71495\n",
      "[156]\ttrain-auc:0.737246\ttest-auc:0.714961\n",
      "[157]\ttrain-auc:0.737327\ttest-auc:0.715008\n",
      "[158]\ttrain-auc:0.737597\ttest-auc:0.715041\n",
      "[159]\ttrain-auc:0.737931\ttest-auc:0.715177\n",
      "[160]\ttrain-auc:0.738396\ttest-auc:0.715312\n",
      "[161]\ttrain-auc:0.738735\ttest-auc:0.715601\n",
      "[162]\ttrain-auc:0.738968\ttest-auc:0.715738\n",
      "[163]\ttrain-auc:0.739102\ttest-auc:0.715791\n",
      "[164]\ttrain-auc:0.739361\ttest-auc:0.71588\n",
      "[165]\ttrain-auc:0.739701\ttest-auc:0.716131\n",
      "[166]\ttrain-auc:0.739838\ttest-auc:0.716226\n",
      "[167]\ttrain-auc:0.740157\ttest-auc:0.716393\n",
      "[168]\ttrain-auc:0.740503\ttest-auc:0.716442\n",
      "[169]\ttrain-auc:0.740786\ttest-auc:0.716547\n",
      "[170]\ttrain-auc:0.741042\ttest-auc:0.716696\n",
      "[171]\ttrain-auc:0.74123\ttest-auc:0.716777\n",
      "[172]\ttrain-auc:0.741418\ttest-auc:0.716778\n",
      "[173]\ttrain-auc:0.741633\ttest-auc:0.716853\n",
      "[174]\ttrain-auc:0.741775\ttest-auc:0.716936\n",
      "[175]\ttrain-auc:0.741888\ttest-auc:0.716972\n",
      "[176]\ttrain-auc:0.742139\ttest-auc:0.717193\n",
      "[177]\ttrain-auc:0.742479\ttest-auc:0.717628\n",
      "[178]\ttrain-auc:0.742502\ttest-auc:0.71765\n",
      "[179]\ttrain-auc:0.742706\ttest-auc:0.717742\n",
      "[180]\ttrain-auc:0.742826\ttest-auc:0.717773\n",
      "[181]\ttrain-auc:0.743023\ttest-auc:0.717813\n",
      "[182]\ttrain-auc:0.743212\ttest-auc:0.717913\n",
      "[183]\ttrain-auc:0.743316\ttest-auc:0.717881\n",
      "[184]\ttrain-auc:0.743554\ttest-auc:0.718042\n",
      "[185]\ttrain-auc:0.743683\ttest-auc:0.718021\n",
      "[186]\ttrain-auc:0.743855\ttest-auc:0.718032\n",
      "[187]\ttrain-auc:0.743969\ttest-auc:0.718086\n",
      "[188]\ttrain-auc:0.744227\ttest-auc:0.71794\n",
      "[189]\ttrain-auc:0.744274\ttest-auc:0.717959\n",
      "[190]\ttrain-auc:0.744353\ttest-auc:0.717917\n",
      "[191]\ttrain-auc:0.744464\ttest-auc:0.717911\n",
      "[192]\ttrain-auc:0.744657\ttest-auc:0.71799\n",
      "[193]\ttrain-auc:0.744868\ttest-auc:0.718032\n",
      "[194]\ttrain-auc:0.745065\ttest-auc:0.718199\n",
      "[195]\ttrain-auc:0.745141\ttest-auc:0.718277\n",
      "[196]\ttrain-auc:0.745474\ttest-auc:0.718223\n",
      "[197]\ttrain-auc:0.745668\ttest-auc:0.718304\n",
      "[198]\ttrain-auc:0.745892\ttest-auc:0.718288\n",
      "[199]\ttrain-auc:0.746221\ttest-auc:0.718431\n",
      "[200]\ttrain-auc:0.74646\ttest-auc:0.718616\n",
      "[201]\ttrain-auc:0.746753\ttest-auc:0.718662\n",
      "[202]\ttrain-auc:0.746914\ttest-auc:0.7186\n",
      "[203]\ttrain-auc:0.747286\ttest-auc:0.718844\n",
      "[204]\ttrain-auc:0.74755\ttest-auc:0.719047\n",
      "[205]\ttrain-auc:0.747732\ttest-auc:0.719156\n",
      "[206]\ttrain-auc:0.747791\ttest-auc:0.719236\n",
      "[207]\ttrain-auc:0.74814\ttest-auc:0.719321\n",
      "[208]\ttrain-auc:0.748293\ttest-auc:0.719329\n",
      "[209]\ttrain-auc:0.748358\ttest-auc:0.71941\n",
      "[210]\ttrain-auc:0.748547\ttest-auc:0.719363\n",
      "[211]\ttrain-auc:0.748689\ttest-auc:0.719486\n",
      "[212]\ttrain-auc:0.749017\ttest-auc:0.719739\n",
      "[213]\ttrain-auc:0.749219\ttest-auc:0.719879\n",
      "[214]\ttrain-auc:0.749434\ttest-auc:0.719983\n",
      "[215]\ttrain-auc:0.749631\ttest-auc:0.719953\n",
      "[216]\ttrain-auc:0.749735\ttest-auc:0.720017\n",
      "[217]\ttrain-auc:0.750023\ttest-auc:0.720134\n",
      "[218]\ttrain-auc:0.750081\ttest-auc:0.720144\n",
      "[219]\ttrain-auc:0.750137\ttest-auc:0.720178\n",
      "[220]\ttrain-auc:0.750389\ttest-auc:0.720113\n",
      "[221]\ttrain-auc:0.750435\ttest-auc:0.720131\n",
      "[222]\ttrain-auc:0.750869\ttest-auc:0.72057\n",
      "[223]\ttrain-auc:0.751224\ttest-auc:0.72076\n",
      "[224]\ttrain-auc:0.751307\ttest-auc:0.720786\n",
      "[225]\ttrain-auc:0.751484\ttest-auc:0.720883\n",
      "[226]\ttrain-auc:0.751757\ttest-auc:0.720999\n",
      "[227]\ttrain-auc:0.751887\ttest-auc:0.720937\n",
      "[228]\ttrain-auc:0.752163\ttest-auc:0.720997\n",
      "[229]\ttrain-auc:0.752361\ttest-auc:0.721232\n",
      "[230]\ttrain-auc:0.752492\ttest-auc:0.721203\n",
      "[231]\ttrain-auc:0.752642\ttest-auc:0.721232\n",
      "[232]\ttrain-auc:0.752751\ttest-auc:0.721272\n",
      "[233]\ttrain-auc:0.752976\ttest-auc:0.721471\n",
      "[234]\ttrain-auc:0.753003\ttest-auc:0.721439\n",
      "[235]\ttrain-auc:0.753258\ttest-auc:0.72147\n",
      "[236]\ttrain-auc:0.753645\ttest-auc:0.721386\n",
      "[237]\ttrain-auc:0.753956\ttest-auc:0.721302\n",
      "[238]\ttrain-auc:0.754167\ttest-auc:0.721407\n",
      "[239]\ttrain-auc:0.754482\ttest-auc:0.721523\n",
      "[240]\ttrain-auc:0.754759\ttest-auc:0.721739\n",
      "[241]\ttrain-auc:0.754993\ttest-auc:0.721765\n",
      "[242]\ttrain-auc:0.755147\ttest-auc:0.721775\n",
      "[243]\ttrain-auc:0.755521\ttest-auc:0.721799\n",
      "[244]\ttrain-auc:0.755785\ttest-auc:0.721799\n",
      "[245]\ttrain-auc:0.755919\ttest-auc:0.721784\n",
      "[246]\ttrain-auc:0.756076\ttest-auc:0.721896\n",
      "[247]\ttrain-auc:0.756169\ttest-auc:0.721943\n",
      "[248]\ttrain-auc:0.756378\ttest-auc:0.722245\n",
      "[249]\ttrain-auc:0.756461\ttest-auc:0.722273\n",
      "[250]\ttrain-auc:0.756616\ttest-auc:0.722313\n",
      "[251]\ttrain-auc:0.756907\ttest-auc:0.722458\n",
      "[252]\ttrain-auc:0.757135\ttest-auc:0.722638\n",
      "[253]\ttrain-auc:0.757375\ttest-auc:0.722722\n",
      "[254]\ttrain-auc:0.757475\ttest-auc:0.722709\n",
      "[255]\ttrain-auc:0.757688\ttest-auc:0.722877\n",
      "[256]\ttrain-auc:0.757887\ttest-auc:0.723005\n",
      "[257]\ttrain-auc:0.758172\ttest-auc:0.723049\n",
      "[258]\ttrain-auc:0.758314\ttest-auc:0.72303\n",
      "[259]\ttrain-auc:0.758457\ttest-auc:0.723212\n",
      "[260]\ttrain-auc:0.75856\ttest-auc:0.7233\n",
      "[261]\ttrain-auc:0.758733\ttest-auc:0.723441\n",
      "[262]\ttrain-auc:0.758853\ttest-auc:0.723485\n",
      "[263]\ttrain-auc:0.758891\ttest-auc:0.72351\n",
      "[264]\ttrain-auc:0.759107\ttest-auc:0.723574\n",
      "[265]\ttrain-auc:0.759359\ttest-auc:0.723596\n",
      "[266]\ttrain-auc:0.759437\ttest-auc:0.723608\n",
      "[267]\ttrain-auc:0.759569\ttest-auc:0.723685\n",
      "[268]\ttrain-auc:0.759757\ttest-auc:0.723735\n",
      "[269]\ttrain-auc:0.760004\ttest-auc:0.72381\n",
      "[270]\ttrain-auc:0.760126\ttest-auc:0.723875\n",
      "[271]\ttrain-auc:0.760365\ttest-auc:0.724125\n",
      "[272]\ttrain-auc:0.760417\ttest-auc:0.724166\n",
      "[273]\ttrain-auc:0.760685\ttest-auc:0.724104\n",
      "[274]\ttrain-auc:0.760861\ttest-auc:0.724242\n",
      "[275]\ttrain-auc:0.760967\ttest-auc:0.724436\n",
      "[276]\ttrain-auc:0.761288\ttest-auc:0.724568\n",
      "[277]\ttrain-auc:0.761464\ttest-auc:0.724729\n",
      "[278]\ttrain-auc:0.76149\ttest-auc:0.724737\n",
      "[279]\ttrain-auc:0.761664\ttest-auc:0.72472\n",
      "[280]\ttrain-auc:0.761886\ttest-auc:0.724814\n",
      "[281]\ttrain-auc:0.762058\ttest-auc:0.724844\n",
      "[282]\ttrain-auc:0.762185\ttest-auc:0.724931\n",
      "[283]\ttrain-auc:0.762438\ttest-auc:0.725046\n",
      "[284]\ttrain-auc:0.76272\ttest-auc:0.725193\n",
      "[285]\ttrain-auc:0.762832\ttest-auc:0.725278\n",
      "[286]\ttrain-auc:0.762932\ttest-auc:0.725334\n",
      "[287]\ttrain-auc:0.76298\ttest-auc:0.725365\n",
      "[288]\ttrain-auc:0.763164\ttest-auc:0.725459\n",
      "[289]\ttrain-auc:0.763277\ttest-auc:0.725505\n",
      "[290]\ttrain-auc:0.763498\ttest-auc:0.725602\n",
      "[291]\ttrain-auc:0.763713\ttest-auc:0.725796\n",
      "[292]\ttrain-auc:0.763846\ttest-auc:0.725853\n",
      "[293]\ttrain-auc:0.764007\ttest-auc:0.725941\n",
      "[294]\ttrain-auc:0.764015\ttest-auc:0.725904\n",
      "[295]\ttrain-auc:0.764179\ttest-auc:0.725888\n",
      "[296]\ttrain-auc:0.764358\ttest-auc:0.725825\n",
      "[297]\ttrain-auc:0.7646\ttest-auc:0.725871\n",
      "[298]\ttrain-auc:0.764862\ttest-auc:0.72578\n",
      "[299]\ttrain-auc:0.765129\ttest-auc:0.725884\n",
      "[300]\ttrain-auc:0.765256\ttest-auc:0.725993\n",
      "[301]\ttrain-auc:0.765369\ttest-auc:0.725939\n",
      "[302]\ttrain-auc:0.765419\ttest-auc:0.725963\n",
      "[303]\ttrain-auc:0.765601\ttest-auc:0.725933\n",
      "[304]\ttrain-auc:0.765916\ttest-auc:0.726192\n",
      "[305]\ttrain-auc:0.766141\ttest-auc:0.726307\n",
      "[306]\ttrain-auc:0.76637\ttest-auc:0.726415\n",
      "[307]\ttrain-auc:0.766579\ttest-auc:0.726423\n",
      "[308]\ttrain-auc:0.76673\ttest-auc:0.726395\n",
      "[309]\ttrain-auc:0.766916\ttest-auc:0.726444\n",
      "[310]\ttrain-auc:0.76716\ttest-auc:0.726553\n",
      "[311]\ttrain-auc:0.767381\ttest-auc:0.726639\n",
      "[312]\ttrain-auc:0.767473\ttest-auc:0.726657\n",
      "[313]\ttrain-auc:0.767512\ttest-auc:0.726614\n",
      "[314]\ttrain-auc:0.767717\ttest-auc:0.726757\n",
      "[315]\ttrain-auc:0.767956\ttest-auc:0.72677\n",
      "[316]\ttrain-auc:0.768134\ttest-auc:0.726929\n",
      "[317]\ttrain-auc:0.768179\ttest-auc:0.726947\n",
      "[318]\ttrain-auc:0.768316\ttest-auc:0.726984\n",
      "[319]\ttrain-auc:0.76848\ttest-auc:0.727011\n",
      "[320]\ttrain-auc:0.76873\ttest-auc:0.727035\n",
      "[321]\ttrain-auc:0.768996\ttest-auc:0.727045\n",
      "[322]\ttrain-auc:0.769225\ttest-auc:0.727072\n",
      "[323]\ttrain-auc:0.769384\ttest-auc:0.727074\n",
      "[324]\ttrain-auc:0.769445\ttest-auc:0.727077\n",
      "[325]\ttrain-auc:0.769639\ttest-auc:0.727174\n",
      "[326]\ttrain-auc:0.769622\ttest-auc:0.727201\n",
      "[327]\ttrain-auc:0.770006\ttest-auc:0.727353\n",
      "[328]\ttrain-auc:0.770162\ttest-auc:0.727369\n",
      "[329]\ttrain-auc:0.770289\ttest-auc:0.72739\n",
      "[330]\ttrain-auc:0.770441\ttest-auc:0.727511\n",
      "[331]\ttrain-auc:0.770746\ttest-auc:0.727735\n",
      "[332]\ttrain-auc:0.771106\ttest-auc:0.727936\n",
      "[333]\ttrain-auc:0.771239\ttest-auc:0.728015\n",
      "[334]\ttrain-auc:0.771292\ttest-auc:0.728058\n",
      "[335]\ttrain-auc:0.771414\ttest-auc:0.728126\n",
      "[336]\ttrain-auc:0.771567\ttest-auc:0.728138\n",
      "[337]\ttrain-auc:0.771782\ttest-auc:0.728154\n",
      "[338]\ttrain-auc:0.771979\ttest-auc:0.728204\n",
      "[339]\ttrain-auc:0.772162\ttest-auc:0.728187\n",
      "[340]\ttrain-auc:0.772277\ttest-auc:0.72828\n",
      "[341]\ttrain-auc:0.772523\ttest-auc:0.728247\n",
      "[342]\ttrain-auc:0.772575\ttest-auc:0.728333\n",
      "[343]\ttrain-auc:0.772619\ttest-auc:0.7283\n",
      "[344]\ttrain-auc:0.772898\ttest-auc:0.728258\n",
      "[345]\ttrain-auc:0.773184\ttest-auc:0.728284\n",
      "[346]\ttrain-auc:0.773427\ttest-auc:0.728501\n",
      "[347]\ttrain-auc:0.773641\ttest-auc:0.728578\n",
      "[348]\ttrain-auc:0.773889\ttest-auc:0.728554\n",
      "[349]\ttrain-auc:0.773987\ttest-auc:0.72859\n",
      "[350]\ttrain-auc:0.774189\ttest-auc:0.728754\n",
      "[351]\ttrain-auc:0.774276\ttest-auc:0.728897\n",
      "[352]\ttrain-auc:0.77455\ttest-auc:0.729148\n",
      "[353]\ttrain-auc:0.774655\ttest-auc:0.729163\n",
      "[354]\ttrain-auc:0.774863\ttest-auc:0.729393\n",
      "[355]\ttrain-auc:0.774877\ttest-auc:0.729336\n",
      "[356]\ttrain-auc:0.77501\ttest-auc:0.729415\n",
      "[357]\ttrain-auc:0.775191\ttest-auc:0.729517\n",
      "[358]\ttrain-auc:0.775274\ttest-auc:0.729643\n",
      "[359]\ttrain-auc:0.77555\ttest-auc:0.729719\n",
      "[360]\ttrain-auc:0.77576\ttest-auc:0.729655\n",
      "[361]\ttrain-auc:0.775966\ttest-auc:0.729678\n",
      "[362]\ttrain-auc:0.776034\ttest-auc:0.729763\n",
      "[363]\ttrain-auc:0.776116\ttest-auc:0.72979\n",
      "[364]\ttrain-auc:0.776246\ttest-auc:0.729762\n",
      "[365]\ttrain-auc:0.776415\ttest-auc:0.729839\n",
      "[366]\ttrain-auc:0.776501\ttest-auc:0.729874\n",
      "[367]\ttrain-auc:0.776728\ttest-auc:0.729972\n",
      "[368]\ttrain-auc:0.776915\ttest-auc:0.730044\n",
      "[369]\ttrain-auc:0.777064\ttest-auc:0.730101\n",
      "[370]\ttrain-auc:0.777254\ttest-auc:0.730338\n",
      "[371]\ttrain-auc:0.777345\ttest-auc:0.730329\n",
      "[372]\ttrain-auc:0.777491\ttest-auc:0.730291\n",
      "[373]\ttrain-auc:0.777571\ttest-auc:0.730364\n",
      "[374]\ttrain-auc:0.777594\ttest-auc:0.730261\n",
      "[375]\ttrain-auc:0.777834\ttest-auc:0.730406\n",
      "[376]\ttrain-auc:0.778067\ttest-auc:0.73051\n",
      "[377]\ttrain-auc:0.778241\ttest-auc:0.730689\n",
      "[378]\ttrain-auc:0.778544\ttest-auc:0.730705\n",
      "[379]\ttrain-auc:0.778757\ttest-auc:0.730654\n",
      "[380]\ttrain-auc:0.778785\ttest-auc:0.730714\n",
      "[381]\ttrain-auc:0.77888\ttest-auc:0.730739\n",
      "[382]\ttrain-auc:0.778918\ttest-auc:0.7307\n",
      "[383]\ttrain-auc:0.778985\ttest-auc:0.730753\n",
      "[384]\ttrain-auc:0.779084\ttest-auc:0.730828\n",
      "[385]\ttrain-auc:0.779366\ttest-auc:0.730956\n",
      "[386]\ttrain-auc:0.779614\ttest-auc:0.731061\n",
      "[387]\ttrain-auc:0.77976\ttest-auc:0.731051\n",
      "[388]\ttrain-auc:0.779934\ttest-auc:0.731095\n",
      "[389]\ttrain-auc:0.77991\ttest-auc:0.731091\n",
      "[390]\ttrain-auc:0.780024\ttest-auc:0.731159\n",
      "[391]\ttrain-auc:0.780045\ttest-auc:0.73113\n",
      "[392]\ttrain-auc:0.780152\ttest-auc:0.73122\n",
      "[393]\ttrain-auc:0.780252\ttest-auc:0.731425\n",
      "[394]\ttrain-auc:0.780327\ttest-auc:0.731448\n",
      "[395]\ttrain-auc:0.780371\ttest-auc:0.73151\n",
      "[396]\ttrain-auc:0.780502\ttest-auc:0.731431\n",
      "[397]\ttrain-auc:0.780555\ttest-auc:0.731483\n",
      "[398]\ttrain-auc:0.780772\ttest-auc:0.731556\n",
      "[399]\ttrain-auc:0.780842\ttest-auc:0.731546\n",
      "[400]\ttrain-auc:0.781102\ttest-auc:0.731689\n",
      "[401]\ttrain-auc:0.781295\ttest-auc:0.731713\n",
      "[402]\ttrain-auc:0.781386\ttest-auc:0.731743\n",
      "[403]\ttrain-auc:0.781526\ttest-auc:0.731859\n",
      "[404]\ttrain-auc:0.781547\ttest-auc:0.731856\n",
      "[405]\ttrain-auc:0.781795\ttest-auc:0.731879\n",
      "[406]\ttrain-auc:0.781981\ttest-auc:0.731807\n",
      "[407]\ttrain-auc:0.782042\ttest-auc:0.731835\n",
      "[408]\ttrain-auc:0.782223\ttest-auc:0.73193\n",
      "[409]\ttrain-auc:0.78243\ttest-auc:0.731965\n",
      "[410]\ttrain-auc:0.782552\ttest-auc:0.732046\n",
      "[411]\ttrain-auc:0.782609\ttest-auc:0.732047\n",
      "[412]\ttrain-auc:0.782713\ttest-auc:0.731982\n",
      "[413]\ttrain-auc:0.782893\ttest-auc:0.732056\n",
      "[414]\ttrain-auc:0.782922\ttest-auc:0.732108\n",
      "[415]\ttrain-auc:0.783072\ttest-auc:0.732171\n",
      "[416]\ttrain-auc:0.783172\ttest-auc:0.73226\n",
      "[417]\ttrain-auc:0.783315\ttest-auc:0.732163\n",
      "[418]\ttrain-auc:0.783365\ttest-auc:0.732212\n",
      "[419]\ttrain-auc:0.78339\ttest-auc:0.732221\n",
      "[420]\ttrain-auc:0.783662\ttest-auc:0.73222\n",
      "[421]\ttrain-auc:0.783738\ttest-auc:0.732258\n",
      "[422]\ttrain-auc:0.783851\ttest-auc:0.732351\n",
      "[423]\ttrain-auc:0.78388\ttest-auc:0.732412\n",
      "[424]\ttrain-auc:0.783983\ttest-auc:0.732467\n",
      "[425]\ttrain-auc:0.784148\ttest-auc:0.73253\n",
      "[426]\ttrain-auc:0.784278\ttest-auc:0.732533\n",
      "[427]\ttrain-auc:0.784553\ttest-auc:0.732545\n",
      "[428]\ttrain-auc:0.78459\ttest-auc:0.732668\n",
      "[429]\ttrain-auc:0.784691\ttest-auc:0.732606\n",
      "[430]\ttrain-auc:0.784838\ttest-auc:0.732679\n",
      "[431]\ttrain-auc:0.785\ttest-auc:0.732763\n",
      "[432]\ttrain-auc:0.78515\ttest-auc:0.732807\n",
      "[433]\ttrain-auc:0.785327\ttest-auc:0.732973\n",
      "[434]\ttrain-auc:0.785436\ttest-auc:0.732977\n",
      "[435]\ttrain-auc:0.78557\ttest-auc:0.733127\n",
      "[436]\ttrain-auc:0.785614\ttest-auc:0.733126\n",
      "[437]\ttrain-auc:0.785719\ttest-auc:0.733173\n",
      "[438]\ttrain-auc:0.78577\ttest-auc:0.733287\n",
      "[439]\ttrain-auc:0.785979\ttest-auc:0.733428\n",
      "[440]\ttrain-auc:0.786108\ttest-auc:0.733511\n",
      "[441]\ttrain-auc:0.786222\ttest-auc:0.733575\n",
      "[442]\ttrain-auc:0.786391\ttest-auc:0.733692\n",
      "[443]\ttrain-auc:0.786562\ttest-auc:0.733889\n",
      "[444]\ttrain-auc:0.786731\ttest-auc:0.733905\n",
      "[445]\ttrain-auc:0.786825\ttest-auc:0.733986\n",
      "[446]\ttrain-auc:0.787017\ttest-auc:0.734\n",
      "[447]\ttrain-auc:0.787174\ttest-auc:0.734068\n",
      "[448]\ttrain-auc:0.78717\ttest-auc:0.734122\n",
      "[449]\ttrain-auc:0.787228\ttest-auc:0.734042\n",
      "[450]\ttrain-auc:0.787348\ttest-auc:0.734011\n",
      "[451]\ttrain-auc:0.787469\ttest-auc:0.734084\n",
      "[452]\ttrain-auc:0.787547\ttest-auc:0.734041\n",
      "[453]\ttrain-auc:0.787708\ttest-auc:0.734055\n",
      "[454]\ttrain-auc:0.78784\ttest-auc:0.734065\n",
      "[455]\ttrain-auc:0.787988\ttest-auc:0.734145\n",
      "[456]\ttrain-auc:0.788218\ttest-auc:0.734213\n",
      "[457]\ttrain-auc:0.788425\ttest-auc:0.734306\n",
      "[458]\ttrain-auc:0.78853\ttest-auc:0.734334\n",
      "[459]\ttrain-auc:0.788606\ttest-auc:0.734401\n",
      "[460]\ttrain-auc:0.788749\ttest-auc:0.73439\n",
      "[461]\ttrain-auc:0.788814\ttest-auc:0.734475\n",
      "[462]\ttrain-auc:0.788868\ttest-auc:0.734454\n",
      "[463]\ttrain-auc:0.789017\ttest-auc:0.734491\n",
      "[464]\ttrain-auc:0.789298\ttest-auc:0.734576\n",
      "[465]\ttrain-auc:0.789338\ttest-auc:0.734508\n",
      "[466]\ttrain-auc:0.789468\ttest-auc:0.734594\n",
      "[467]\ttrain-auc:0.789581\ttest-auc:0.734594\n",
      "[468]\ttrain-auc:0.789642\ttest-auc:0.734577\n",
      "[469]\ttrain-auc:0.789756\ttest-auc:0.734589\n",
      "[470]\ttrain-auc:0.789891\ttest-auc:0.734628\n",
      "[471]\ttrain-auc:0.789995\ttest-auc:0.734622\n",
      "[472]\ttrain-auc:0.790079\ttest-auc:0.734665\n",
      "[473]\ttrain-auc:0.790267\ttest-auc:0.734786\n",
      "[474]\ttrain-auc:0.790397\ttest-auc:0.734749\n",
      "[475]\ttrain-auc:0.79049\ttest-auc:0.734777\n",
      "[476]\ttrain-auc:0.790706\ttest-auc:0.734775\n",
      "[477]\ttrain-auc:0.790717\ttest-auc:0.734757\n",
      "[478]\ttrain-auc:0.790729\ttest-auc:0.73476\n",
      "[479]\ttrain-auc:0.790779\ttest-auc:0.734792\n",
      "[480]\ttrain-auc:0.790998\ttest-auc:0.734748\n",
      "[481]\ttrain-auc:0.791092\ttest-auc:0.734791\n",
      "[482]\ttrain-auc:0.791308\ttest-auc:0.734767\n",
      "[483]\ttrain-auc:0.791371\ttest-auc:0.734765\n",
      "[484]\ttrain-auc:0.791464\ttest-auc:0.734854\n",
      "[485]\ttrain-auc:0.791615\ttest-auc:0.735012\n",
      "[486]\ttrain-auc:0.791672\ttest-auc:0.735041\n",
      "[487]\ttrain-auc:0.791823\ttest-auc:0.735043\n",
      "[488]\ttrain-auc:0.791901\ttest-auc:0.735185\n",
      "[489]\ttrain-auc:0.792077\ttest-auc:0.735244\n",
      "[490]\ttrain-auc:0.792252\ttest-auc:0.735295\n",
      "[491]\ttrain-auc:0.792334\ttest-auc:0.73532\n",
      "[492]\ttrain-auc:0.792588\ttest-auc:0.73537\n",
      "[493]\ttrain-auc:0.792747\ttest-auc:0.735428\n",
      "[494]\ttrain-auc:0.792911\ttest-auc:0.735413\n",
      "[495]\ttrain-auc:0.793003\ttest-auc:0.735412\n",
      "[496]\ttrain-auc:0.793147\ttest-auc:0.735432\n",
      "[497]\ttrain-auc:0.793424\ttest-auc:0.735531\n",
      "[498]\ttrain-auc:0.793589\ttest-auc:0.735665\n",
      "[499]\ttrain-auc:0.793796\ttest-auc:0.735721\n"
     ]
    },
    {
     "data": {
      "text/plain": [
       "0.7357210363424407"
      ]
     },
     "execution_count": 27,
     "metadata": {
      "tags": []
     },
     "output_type": "execute_result"
    }
   ],
   "source": [
    "from sklearn.metrics import roc_auc_score,roc_curve,auc\n",
    "\n",
    "param = {'n_estimators': 500,\n",
    "         'max_depth': 4, \n",
    "         'min_child_weight': 4,\n",
    "         'gamma':0.3,\n",
    "         'subsample': 0.8,\n",
    "         'colsample_bytree': 0.8,  \n",
    "         'eta': 0.125,\n",
    "         'silent': 1, \n",
    "         'objective': 'binary:logistic',\n",
    "         'eval_metric':'auc',\n",
    "         'nthread':17\n",
    "        }\n",
    "\n",
    "import xgboost as xgb\n",
    "dtrain = xgb.DMatrix(x_train, label=y_train)\n",
    "dtest = xgb.DMatrix(x_test, label=y_test)\n",
    "evallist = [(dtrain, 'train'),(dtest,'test')]\n",
    "bst = xgb.train(param, dtrain, 500,evallist, early_stopping_rounds=10)\n",
    "\n",
    "\n",
    "\n",
    "x_test_DMatrix = xgb.DMatrix(x_test)\n",
    "y_pred = bst.predict(x_test_DMatrix)\n",
    "\n",
    "## AUC calculate\n",
    "roc_auc_score(y_test,y_pred) "
   ]
  },
  {
   "cell_type": "code",
   "execution_count": null,
   "metadata": {
    "id": "et8DFlRcN7Ql"
   },
   "outputs": [],
   "source": [
    "import seaborn as sns\n",
    "  "
   ]
  },
  {
   "cell_type": "code",
   "execution_count": null,
   "metadata": {
    "colab": {
     "base_uri": "https://localhost:8080/",
     "height": 336
    },
    "id": "8Ufy3ptqPf2f",
    "outputId": "6fbe81ab-00e7-4441-8d22-e33703b8d3d6"
   },
   "outputs": [
    {
     "name": "stderr",
     "output_type": "stream",
     "text": [
      "/usr/local/lib/python3.6/dist-packages/seaborn/distributions.py:2551: FutureWarning: `distplot` is a deprecated function and will be removed in a future version. Please adapt your code to use either `displot` (a figure-level function with similar flexibility) or `histplot` (an axes-level function for histograms).\n",
      "  warnings.warn(msg, FutureWarning)\n"
     ]
    },
    {
     "data": {
      "text/plain": [
       "<matplotlib.axes._subplots.AxesSubplot at 0x7f881ec1ac18>"
      ]
     },
     "execution_count": 75,
     "metadata": {
      "tags": []
     },
     "output_type": "execute_result"
    },
    {
     "data": {
      "image/png": "[encoded data removed]",
      "text/plain": [
       "<Figure size 432x288 with 1 Axes>"
      ]
     },
     "metadata": {
      "needs_background": "light",
      "tags": []
     },
     "output_type": "display_data"
    }
   ],
   "source": [
    "sns.distplot(y_pred,hist=True,kde=True,bins=int(180/5),color=\"darkblue\",hist_kws={\"edgecolor\":'black'},kde_kws={\"linewidth\":4})"
   ]
  }
 ],
 "metadata": {
  "colab": {
   "collapsed_sections": [],
   "name": "Untitled3.ipynb",
   "provenance": []
  },
  "kernelspec": {
   "display_name": "Python 3",
   "language": "python",
   "name": "python3"
  },
  "language_info": {
   "codemirror_mode": {
    "name": "ipython",
    "version": 3
   },
   "file_extension": ".py",
   "mimetype": "text/x-python",
   "name": "python",
   "nbconvert_exporter": "python",
   "pygments_lexer": "ipython3",
   "version": "3.8.3"
  }
 },
 "nbformat": 4,
 "nbformat_minor": 1
}
